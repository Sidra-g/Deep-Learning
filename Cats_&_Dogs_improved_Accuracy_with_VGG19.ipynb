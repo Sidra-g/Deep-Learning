{
  "nbformat": 4,
  "nbformat_minor": 0,
  "metadata": {
    "colab": {
      "provenance": [],
      "gpuType": "T4",
      "authorship_tag": "ABX9TyO/OJAEr9UjdN5b6zhZyoQ5",
      "include_colab_link": true
    },
    "kernelspec": {
      "name": "python3",
      "display_name": "Python 3"
    },
    "language_info": {
      "name": "python"
    },
    "accelerator": "GPU"
  },
  "cells": [
    {
      "cell_type": "markdown",
      "metadata": {
        "id": "view-in-github",
        "colab_type": "text"
      },
      "source": [
        "<a href=\"https://colab.research.google.com/github/Sidra-g/Deep-Learning/blob/main/Cats_%26_Dogs_improved_Accuracy_with_VGG19.ipynb\" target=\"_parent\"><img src=\"https://colab.research.google.com/assets/colab-badge.svg\" alt=\"Open In Colab\"/></a>"
      ]
    },
    {
      "cell_type": "markdown",
      "source": [
        "Transfer_learning_feature_extraction(data_augmentation)"
      ],
      "metadata": {
        "id": "zWr3gVsj4rNW"
      }
    },
    {
      "cell_type": "code",
      "source": [
        "from google.colab import drive\n",
        "drive.mount('/content/drive')"
      ],
      "metadata": {
        "colab": {
          "base_uri": "https://localhost:8080/"
        },
        "id": "SG6VMymUWvfr",
        "outputId": "cb4358e6-b6f5-4571-bdea-5f40481cd533"
      },
      "execution_count": 5,
      "outputs": [
        {
          "output_type": "stream",
          "name": "stdout",
          "text": [
            "Mounted at /content/drive\n"
          ]
        }
      ]
    },
    {
      "cell_type": "code",
      "execution_count": 7,
      "metadata": {
        "id": "TTfjp1JfWI5i"
      },
      "outputs": [],
      "source": [
        "!mkdir -p ~/.kaggle\n",
        "!cp /content/drive/MyDrive/kaggle.json ~/.kaggle/"
      ]
    },
    {
      "cell_type": "code",
      "source": [
        "!kaggle datasets download -d salader/dogs-vs-cats"
      ],
      "metadata": {
        "colab": {
          "base_uri": "https://localhost:8080/"
        },
        "id": "KoZPcLgrWTHm",
        "outputId": "09a656c9-949c-42ac-a52c-166baa3c98e5"
      },
      "execution_count": 4,
      "outputs": [
        {
          "output_type": "stream",
          "name": "stdout",
          "text": [
            "Dataset URL: https://www.kaggle.com/datasets/salader/dogs-vs-cats\n",
            "License(s): unknown\n",
            "Downloading dogs-vs-cats.zip to /content\n",
            "100% 1.06G/1.06G [00:04<00:00, 288MB/s]\n",
            "100% 1.06G/1.06G [00:04<00:00, 234MB/s]\n"
          ]
        }
      ]
    },
    {
      "cell_type": "code",
      "source": [
        "import zipfile\n",
        "zip_ref = zipfile.ZipFile('/content/dogs-vs-cats.zip', 'r')\n",
        "zip_ref.extractall('/content')\n",
        "zip_ref.close()"
      ],
      "metadata": {
        "id": "dnOiUDLmWTKd"
      },
      "execution_count": 6,
      "outputs": []
    },
    {
      "cell_type": "code",
      "source": [
        "import tensorflow\n",
        "from tensorflow import keras\n",
        "from keras import Sequential\n",
        "from keras.layers import Dense,Flatten\n",
        "from keras.applications.vgg19 import VGG19"
      ],
      "metadata": {
        "id": "c6kWJERoWTNR"
      },
      "execution_count": 1,
      "outputs": []
    },
    {
      "cell_type": "code",
      "source": [
        "conv_base = keras.applications.VGG19(\n",
        "    include_top=False,\n",
        "    weights=\"imagenet\",\n",
        "    input_tensor=None,\n",
        "    input_shape=(150, 150, 3),\n",
        "    pooling=None,\n",
        "    classes=1000,\n",
        "    classifier_activation=\"softmax\",\n",
        "    name=\"vgg19\",\n",
        ")"
      ],
      "metadata": {
        "id": "Mvf3G_qAWTP1"
      },
      "execution_count": 9,
      "outputs": []
    },
    {
      "cell_type": "code",
      "source": [
        "model = Sequential()\n",
        "\n",
        "model.add(conv_base)\n",
        "model.add(Flatten())\n",
        "model.add(Dense(256,activation='relu'))\n",
        "model.add(Dense(1,activation='sigmoid'))"
      ],
      "metadata": {
        "id": "dj76HIL5WTSo"
      },
      "execution_count": 10,
      "outputs": []
    },
    {
      "cell_type": "code",
      "source": [
        "conv_base.trainable = False"
      ],
      "metadata": {
        "id": "2zPCPxqmXpcj"
      },
      "execution_count": 11,
      "outputs": []
    },
    {
      "cell_type": "code",
      "source": [
        "from tensorflow.keras.utils import img_to_array,array_to_img, load_img\n",
        "keras.utils.image_dataset_from_directory"
      ],
      "metadata": {
        "colab": {
          "base_uri": "https://localhost:8080/",
          "height": 238
        },
        "id": "6NmGZixlYA86",
        "outputId": "996328f3-588e-4607-b05b-f845c4f4ed1f"
      },
      "execution_count": 12,
      "outputs": [
        {
          "output_type": "execute_result",
          "data": {
            "text/plain": [
              "<function keras.src.utils.image_dataset_utils.image_dataset_from_directory(directory, labels='inferred', label_mode='int', class_names=None, color_mode='rgb', batch_size=32, image_size=(256, 256), shuffle=True, seed=None, validation_split=None, subset=None, interpolation='bilinear', follow_links=False, crop_to_aspect_ratio=False, pad_to_aspect_ratio=False, data_format=None, verbose=True)>"
            ],
            "text/html": [
              "<div style=\"max-width:800px; border: 1px solid var(--colab-border-color);\"><style>\n",
              "      pre.function-repr-contents {\n",
              "        overflow-x: auto;\n",
              "        padding: 8px 12px;\n",
              "        max-height: 500px;\n",
              "      }\n",
              "\n",
              "      pre.function-repr-contents.function-repr-contents-collapsed {\n",
              "        cursor: pointer;\n",
              "        max-height: 100px;\n",
              "      }\n",
              "    </style>\n",
              "    <pre style=\"white-space: initial; background:\n",
              "         var(--colab-secondary-surface-color); padding: 8px 12px;\n",
              "         border-bottom: 1px solid var(--colab-border-color);\"><b>keras.src.utils.image_dataset_utils.image_dataset_from_directory</b><br/>def image_dataset_from_directory(directory, labels=&#x27;inferred&#x27;, label_mode=&#x27;int&#x27;, class_names=None, color_mode=&#x27;rgb&#x27;, batch_size=32, image_size=(256, 256), shuffle=True, seed=None, validation_split=None, subset=None, interpolation=&#x27;bilinear&#x27;, follow_links=False, crop_to_aspect_ratio=False, pad_to_aspect_ratio=False, data_format=None, verbose=True)</pre><pre class=\"function-repr-contents function-repr-contents-collapsed\" style=\"\"><a class=\"filepath\" style=\"display:none\" href=\"#\">/usr/local/lib/python3.11/dist-packages/keras/src/utils/image_dataset_utils.py</a>Generates a `tf.data.Dataset` from image files in a directory.\n",
              "\n",
              "If your directory structure is:\n",
              "\n",
              "```\n",
              "main_directory/\n",
              "...class_a/\n",
              "......a_image_1.jpg\n",
              "......a_image_2.jpg\n",
              "...class_b/\n",
              "......b_image_1.jpg\n",
              "......b_image_2.jpg\n",
              "```\n",
              "\n",
              "Then calling `image_dataset_from_directory(main_directory,\n",
              "labels=&#x27;inferred&#x27;)` will return a `tf.data.Dataset` that yields batches of\n",
              "images from the subdirectories `class_a` and `class_b`, together with labels\n",
              "0 and 1 (0 corresponding to `class_a` and 1 corresponding to `class_b`).\n",
              "\n",
              "Supported image formats: `.jpeg`, `.jpg`, `.png`, `.bmp`, `.gif`.\n",
              "Animated gifs are truncated to the first frame.\n",
              "\n",
              "Args:\n",
              "    directory: Directory where the data is located.\n",
              "        If `labels` is `&quot;inferred&quot;`, it should contain\n",
              "        subdirectories, each containing images for a class.\n",
              "        Otherwise, the directory structure is ignored.\n",
              "    labels: Either `&quot;inferred&quot;`\n",
              "        (labels are generated from the directory structure),\n",
              "        `None` (no labels),\n",
              "        or a list/tuple of integer labels of the same size as the number of\n",
              "        image files found in the directory. Labels should be sorted\n",
              "        according to the alphanumeric order of the image file paths\n",
              "        (obtained via `os.walk(directory)` in Python).\n",
              "    label_mode: String describing the encoding of `labels`. Options are:\n",
              "        - `&quot;int&quot;`: means that the labels are encoded as integers\n",
              "            (e.g. for `sparse_categorical_crossentropy` loss).\n",
              "        - `&quot;categorical&quot;` means that the labels are\n",
              "            encoded as a categorical vector\n",
              "            (e.g. for `categorical_crossentropy` loss).\n",
              "        - `&quot;binary&quot;` means that the labels (there can be only 2)\n",
              "            are encoded as `float32` scalars with values 0 or 1\n",
              "            (e.g. for `binary_crossentropy`).\n",
              "        - `None` (no labels).\n",
              "    class_names: Only valid if `labels` is `&quot;inferred&quot;`.\n",
              "        This is the explicit list of class names\n",
              "        (must match names of subdirectories). Used to control the order\n",
              "        of the classes (otherwise alphanumerical order is used).\n",
              "    color_mode: One of `&quot;grayscale&quot;`, `&quot;rgb&quot;`, `&quot;rgba&quot;`.\n",
              "        Whether the images will be converted to\n",
              "        have 1, 3, or 4 channels. Defaults to `&quot;rgb&quot;`.\n",
              "    batch_size: Size of the batches of data. Defaults to 32.\n",
              "        If `None`, the data will not be batched\n",
              "        (the dataset will yield individual samples).\n",
              "    image_size: Size to resize images to after they are read from disk,\n",
              "        specified as `(height, width)`.\n",
              "        Since the pipeline processes batches of images that must all have\n",
              "        the same size, this must be provided. Defaults to `(256, 256)`.\n",
              "    shuffle: Whether to shuffle the data. Defaults to `True`.\n",
              "        If set to `False`, sorts the data in alphanumeric order.\n",
              "    seed: Optional random seed for shuffling and transformations.\n",
              "    validation_split: Optional float between 0 and 1,\n",
              "        fraction of data to reserve for validation.\n",
              "    subset: Subset of the data to return.\n",
              "        One of `&quot;training&quot;`, `&quot;validation&quot;`, or `&quot;both&quot;`.\n",
              "        Only used if `validation_split` is set.\n",
              "        When `subset=&quot;both&quot;`, the utility returns a tuple of two datasets\n",
              "        (the training and validation datasets respectively).\n",
              "    interpolation: String, the interpolation method used when\n",
              "        resizing images.\n",
              "        Supports `&quot;bilinear&quot;`, `&quot;nearest&quot;`, `&quot;bicubic&quot;`, `&quot;area&quot;`,\n",
              "        `&quot;lanczos3&quot;`, `&quot;lanczos5&quot;`, `&quot;gaussian&quot;`, `&quot;mitchellcubic&quot;`.\n",
              "        Defaults to `&quot;bilinear&quot;`.\n",
              "    follow_links: Whether to visit subdirectories pointed to by symlinks.\n",
              "        Defaults to `False`.\n",
              "    crop_to_aspect_ratio: If `True`, resize the images without aspect\n",
              "        ratio distortion. When the original aspect ratio differs from the\n",
              "        target aspect ratio, the output image will be cropped so as to\n",
              "        return the largest possible window in the image\n",
              "        (of size `image_size`) that matches the target aspect ratio. By\n",
              "        default (`crop_to_aspect_ratio=False`), aspect ratio may not be\n",
              "        preserved.\n",
              "    pad_to_aspect_ratio: If `True`, resize the images without aspect\n",
              "        ratio distortion. When the original aspect ratio differs from the\n",
              "        target aspect ratio, the output image will be padded so as to\n",
              "        return the largest possible window in the image\n",
              "        (of size `image_size`) that matches the target aspect ratio. By\n",
              "        default (`pad_to_aspect_ratio=False`), aspect ratio may not be\n",
              "        preserved.\n",
              "    data_format: If None uses keras.config.image_data_format()\n",
              "        otherwise either &#x27;channel_last&#x27; or &#x27;channel_first&#x27;.\n",
              "    verbose: Whether to display number information on classes and\n",
              "        number of files found. Defaults to `True`.\n",
              "\n",
              "Returns:\n",
              "\n",
              "A `tf.data.Dataset` object.\n",
              "\n",
              "- If `label_mode` is `None`, it yields `float32` tensors of shape\n",
              "    `(batch_size, image_size[0], image_size[1], num_channels)`,\n",
              "    encoding images (see below for rules regarding `num_channels`).\n",
              "- Otherwise, it yields a tuple `(images, labels)`, where `images` has\n",
              "    shape `(batch_size, image_size[0], image_size[1], num_channels)`,\n",
              "    and `labels` follows the format described below.\n",
              "\n",
              "Rules regarding labels format:\n",
              "\n",
              "- if `label_mode` is `&quot;int&quot;`, the labels are an `int32` tensor of shape\n",
              "    `(batch_size,)`.\n",
              "- if `label_mode` is `&quot;binary&quot;`, the labels are a `float32` tensor of\n",
              "    1s and 0s of shape `(batch_size, 1)`.\n",
              "- if `label_mode` is `&quot;categorical&quot;`, the labels are a `float32` tensor\n",
              "    of shape `(batch_size, num_classes)`, representing a one-hot\n",
              "    encoding of the class index.\n",
              "\n",
              "Rules regarding number of channels in the yielded images:\n",
              "\n",
              "- if `color_mode` is `&quot;grayscale&quot;`,\n",
              "    there&#x27;s 1 channel in the image tensors.\n",
              "- if `color_mode` is `&quot;rgb&quot;`,\n",
              "    there are 3 channels in the image tensors.\n",
              "- if `color_mode` is `&quot;rgba&quot;`,\n",
              "    there are 4 channels in the image tensors.</pre>\n",
              "      <script>\n",
              "      if (google.colab.kernel.accessAllowed && google.colab.files && google.colab.files.view) {\n",
              "        for (const element of document.querySelectorAll('.filepath')) {\n",
              "          element.style.display = 'block'\n",
              "          element.onclick = (event) => {\n",
              "            event.preventDefault();\n",
              "            event.stopPropagation();\n",
              "            google.colab.files.view(element.textContent, 12);\n",
              "          };\n",
              "        }\n",
              "      }\n",
              "      for (const element of document.querySelectorAll('.function-repr-contents')) {\n",
              "        element.onclick = (event) => {\n",
              "          event.preventDefault();\n",
              "          event.stopPropagation();\n",
              "          element.classList.toggle('function-repr-contents-collapsed');\n",
              "        };\n",
              "      }\n",
              "      </script>\n",
              "      </div>"
            ]
          },
          "metadata": {},
          "execution_count": 12
        }
      ]
    },
    {
      "cell_type": "code",
      "source": [
        "from tensorflow.keras.utils import img_to_array,array_to_img, load_img\n",
        "from tensorflow.keras.preprocessing.image import ImageDataGenerator"
      ],
      "metadata": {
        "id": "2A4s85NjaqLv"
      },
      "execution_count": 13,
      "outputs": []
    },
    {
      "cell_type": "code",
      "source": [
        "batch_size = 32\n",
        "\n",
        "train_datagen = ImageDataGenerator(\n",
        "        rescale=1./255,\n",
        "        shear_range=0.2,\n",
        "        zoom_range=0.2,\n",
        "        horizontal_flip=True)\n",
        "\n",
        "test_datagen = ImageDataGenerator(rescale=1./255)\n",
        "\n",
        "train_generator = train_datagen.flow_from_directory(\n",
        "        '/content/train',\n",
        "        target_size=(150, 150),\n",
        "        batch_size=batch_size,\n",
        "        class_mode='binary')\n",
        "\n",
        "validation_generator = test_datagen.flow_from_directory(\n",
        "        '/content/test',\n",
        "        target_size=(150, 150),\n",
        "        batch_size=batch_size,\n",
        "        class_mode='binary')\n"
      ],
      "metadata": {
        "colab": {
          "base_uri": "https://localhost:8080/"
        },
        "id": "t11jS-6wYA5q",
        "outputId": "64e8eaea-18a0-4186-e108-61becefd294f"
      },
      "execution_count": 14,
      "outputs": [
        {
          "output_type": "stream",
          "name": "stdout",
          "text": [
            "Found 20000 images belonging to 2 classes.\n",
            "Found 5000 images belonging to 2 classes.\n"
          ]
        }
      ]
    },
    {
      "cell_type": "code",
      "source": [
        "model.compile(optimizer='adam',loss='binary_crossentropy',metrics=['accuracy'])"
      ],
      "metadata": {
        "id": "-nQs2KVeaxsu"
      },
      "execution_count": 15,
      "outputs": []
    },
    {
      "cell_type": "code",
      "source": [
        "history = model.fit(\n",
        "        train_generator,\n",
        "        epochs=10,\n",
        "        validation_data=validation_generator)"
      ],
      "metadata": {
        "colab": {
          "base_uri": "https://localhost:8080/"
        },
        "id": "KCDfoh6_axn5",
        "outputId": "508640be-2cf2-4ac0-f312-9ee70b97a2f3"
      },
      "execution_count": 16,
      "outputs": [
        {
          "metadata": {
            "tags": null
          },
          "name": "stdout",
          "output_type": "stream",
          "text": [
            "Epoch 1/10\n"
          ]
        },
        {
          "metadata": {
            "tags": null
          },
          "name": "stderr",
          "output_type": "stream",
          "text": [
            "/usr/local/lib/python3.11/dist-packages/keras/src/trainers/data_adapters/py_dataset_adapter.py:122: UserWarning: Your `PyDataset` class should call `super().__init__(**kwargs)` in its constructor. `**kwargs` can include `workers`, `use_multiprocessing`, `max_queue_size`. Do not pass these arguments to `fit()`, as they will be ignored.\n",
            "  self._warn_if_super_not_called()\n"
          ]
        },
        {
          "output_type": "stream",
          "name": "stdout",
          "text": [
            "\u001b[1m625/625\u001b[0m \u001b[32m━━━━━━━━━━━━━━━━━━━━\u001b[0m\u001b[37m\u001b[0m \u001b[1m169s\u001b[0m 251ms/step - accuracy: 0.8124 - loss: 0.4242 - val_accuracy: 0.8938 - val_loss: 0.2510\n",
            "Epoch 2/10\n",
            "\u001b[1m625/625\u001b[0m \u001b[32m━━━━━━━━━━━━━━━━━━━━\u001b[0m\u001b[37m\u001b[0m \u001b[1m154s\u001b[0m 245ms/step - accuracy: 0.8763 - loss: 0.2809 - val_accuracy: 0.8852 - val_loss: 0.2597\n",
            "Epoch 3/10\n",
            "\u001b[1m625/625\u001b[0m \u001b[32m━━━━━━━━━━━━━━━━━━━━\u001b[0m\u001b[37m\u001b[0m \u001b[1m154s\u001b[0m 244ms/step - accuracy: 0.8797 - loss: 0.2691 - val_accuracy: 0.9064 - val_loss: 0.2261\n",
            "Epoch 4/10\n",
            "\u001b[1m625/625\u001b[0m \u001b[32m━━━━━━━━━━━━━━━━━━━━\u001b[0m\u001b[37m\u001b[0m \u001b[1m154s\u001b[0m 244ms/step - accuracy: 0.8974 - loss: 0.2422 - val_accuracy: 0.9090 - val_loss: 0.2198\n",
            "Epoch 5/10\n",
            "\u001b[1m625/625\u001b[0m \u001b[32m━━━━━━━━━━━━━━━━━━━━\u001b[0m\u001b[37m\u001b[0m \u001b[1m161s\u001b[0m 255ms/step - accuracy: 0.8987 - loss: 0.2340 - val_accuracy: 0.9118 - val_loss: 0.2138\n",
            "Epoch 6/10\n",
            "\u001b[1m625/625\u001b[0m \u001b[32m━━━━━━━━━━━━━━━━━━━━\u001b[0m\u001b[37m\u001b[0m \u001b[1m195s\u001b[0m 244ms/step - accuracy: 0.8983 - loss: 0.2301 - val_accuracy: 0.9114 - val_loss: 0.2110\n",
            "Epoch 7/10\n",
            "\u001b[1m625/625\u001b[0m \u001b[32m━━━━━━━━━━━━━━━━━━━━\u001b[0m\u001b[37m\u001b[0m \u001b[1m154s\u001b[0m 245ms/step - accuracy: 0.9046 - loss: 0.2240 - val_accuracy: 0.8948 - val_loss: 0.2571\n",
            "Epoch 8/10\n",
            "\u001b[1m625/625\u001b[0m \u001b[32m━━━━━━━━━━━━━━━━━━━━\u001b[0m\u001b[37m\u001b[0m \u001b[1m154s\u001b[0m 244ms/step - accuracy: 0.9070 - loss: 0.2182 - val_accuracy: 0.9094 - val_loss: 0.2191\n",
            "Epoch 9/10\n",
            "\u001b[1m625/625\u001b[0m \u001b[32m━━━━━━━━━━━━━━━━━━━━\u001b[0m\u001b[37m\u001b[0m \u001b[1m154s\u001b[0m 244ms/step - accuracy: 0.9105 - loss: 0.2094 - val_accuracy: 0.9130 - val_loss: 0.2120\n",
            "Epoch 10/10\n",
            "\u001b[1m625/625\u001b[0m \u001b[32m━━━━━━━━━━━━━━━━━━━━\u001b[0m\u001b[37m\u001b[0m \u001b[1m153s\u001b[0m 244ms/step - accuracy: 0.9186 - loss: 0.1974 - val_accuracy: 0.9070 - val_loss: 0.2205\n"
          ]
        }
      ]
    },
    {
      "cell_type": "code",
      "source": [
        "import matplotlib.pyplot as plt\n",
        "\n",
        "# Plot training accuracy with a specific color\n",
        "plt.plot(history.history['accuracy'], color='blue', label='Training accuracy')\n",
        "\n",
        "# Plot validation accuracy with a specific color\n",
        "plt.plot(history.history['val_accuracy'], color='orange', label='Validation accuracy')\n",
        "\n",
        "# Add labels, title, and legend for better understanding\n",
        "plt.xlabel('Epochs')\n",
        "plt.ylabel('Accuracy')\n",
        "plt.title('Training and Validation Accuracy')\n",
        "plt.legend()\n",
        "\n",
        "# Show the plot\n",
        "plt.show()"
      ],
      "metadata": {
        "colab": {
          "base_uri": "https://localhost:8080/",
          "height": 472
        },
        "id": "YDVGUnqif-yq",
        "outputId": "a82bbefe-648a-4654-b606-427c4dee1537"
      },
      "execution_count": 17,
      "outputs": [
        {
          "output_type": "display_data",
          "data": {
            "text/plain": [
              "<Figure size 640x480 with 1 Axes>"
            ],
            "image/png": "[encoded data removed]"
          },
          "metadata": {}
        }
      ]
    },
    {
      "cell_type": "code",
      "source": [
        "import matplotlib.pyplot as plt\n",
        "\n",
        "# Plot training loss with a specific color\n",
        "plt.plot(history.history['loss'], color='blue', label='Training Loss')\n",
        "\n",
        "# Plot validation loss with a specific color\n",
        "plt.plot(history.history['val_loss'], color='orange', label='Validation Loss')\n",
        "\n",
        "# Add labels, title, and legend for better understanding\n",
        "plt.xlabel('Epochs')\n",
        "plt.ylabel('Loss')\n",
        "plt.title('Training and Validation Loss')\n",
        "plt.legend()\n",
        "\n",
        "# Show the plot\n",
        "plt.show()\n"
      ],
      "metadata": {
        "colab": {
          "base_uri": "https://localhost:8080/",
          "height": 472
        },
        "id": "o7I-JaMHf-ve",
        "outputId": "d602b3d9-3892-4dcf-89fe-79124ecef7fe"
      },
      "execution_count": 18,
      "outputs": [
        {
          "output_type": "display_data",
          "data": {
            "text/plain": [
              "<Figure size 640x480 with 1 Axes>"
            ],
            "image/png": "[encoded data removed]"
          },
          "metadata": {}
        }
      ]
    },
    {
      "cell_type": "markdown",
      "source": [],
      "metadata": {
        "id": "ZZOZuGd34pw-"
      }
    },
    {
      "cell_type": "code",
      "source": [],
      "metadata": {
        "id": "i7SlZWq7f-sY"
      },
      "execution_count": null,
      "outputs": []
    }
  ]
}